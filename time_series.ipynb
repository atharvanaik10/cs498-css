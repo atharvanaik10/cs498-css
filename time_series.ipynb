{
 "cells": [
  {
   "cell_type": "code",
   "execution_count": 41,
   "metadata": {},
   "outputs": [],
   "source": [
    "import numpy as np\n",
    "import pandas as pd\n",
    "import matplotlib.pyplot as plt\n",
    "from darts import TimeSeries\n",
    "from sklearn.preprocessing import LabelEncoder"
   ]
  },
  {
   "cell_type": "markdown",
   "metadata": {},
   "source": [
    "## 1. Load data as a darts TimeSeries"
   ]
  },
  {
   "cell_type": "code",
   "execution_count": 66,
   "metadata": {},
   "outputs": [
    {
     "ename": "KeyError",
     "evalue": "None",
     "output_type": "error",
     "traceback": [
      "\u001b[0;31m---------------------------------------------------------------------------\u001b[0m",
      "\u001b[0;31mKeyError\u001b[0m                                  Traceback (most recent call last)",
      "File \u001b[0;32m~/Desktop/Sem8/CS 498 CSS/cs498-css/venv/lib/python3.11/site-packages/pandas/core/indexes/base.py:3805\u001b[0m, in \u001b[0;36mIndex.get_loc\u001b[0;34m(self, key)\u001b[0m\n\u001b[1;32m   3804\u001b[0m \u001b[39mtry\u001b[39;00m:\n\u001b[0;32m-> 3805\u001b[0m     \u001b[39mreturn\u001b[39;00m \u001b[39mself\u001b[39;49m\u001b[39m.\u001b[39;49m_engine\u001b[39m.\u001b[39;49mget_loc(casted_key)\n\u001b[1;32m   3806\u001b[0m \u001b[39mexcept\u001b[39;00m \u001b[39mKeyError\u001b[39;00m \u001b[39mas\u001b[39;00m err:\n",
      "File \u001b[0;32mindex.pyx:167\u001b[0m, in \u001b[0;36mpandas._libs.index.IndexEngine.get_loc\u001b[0;34m()\u001b[0m\n",
      "File \u001b[0;32mindex.pyx:196\u001b[0m, in \u001b[0;36mpandas._libs.index.IndexEngine.get_loc\u001b[0;34m()\u001b[0m\n",
      "File \u001b[0;32mpandas/_libs/hashtable_class_helper.pxi:7081\u001b[0m, in \u001b[0;36mpandas._libs.hashtable.PyObjectHashTable.get_item\u001b[0;34m()\u001b[0m\n",
      "File \u001b[0;32mpandas/_libs/hashtable_class_helper.pxi:7089\u001b[0m, in \u001b[0;36mpandas._libs.hashtable.PyObjectHashTable.get_item\u001b[0;34m()\u001b[0m\n",
      "\u001b[0;31mKeyError\u001b[0m: None",
      "\nThe above exception was the direct cause of the following exception:\n",
      "\u001b[0;31mKeyError\u001b[0m                                  Traceback (most recent call last)",
      "Cell \u001b[0;32mIn[66], line 22\u001b[0m\n\u001b[1;32m      7\u001b[0m selected_covariates \u001b[39m=\u001b[39m [\u001b[39m'\u001b[39m\u001b[39md_env_wea_avgtemp_summer_noaa\u001b[39m\u001b[39m'\u001b[39m, \u001b[39m'\u001b[39m\u001b[39md_env_wea_precip_noaa\u001b[39m\u001b[39m'\u001b[39m,\n\u001b[1;32m      8\u001b[0m \u001b[39m'\u001b[39m\u001b[39md_env_wea_precip_annual_noaa\u001b[39m\u001b[39m'\u001b[39m, \u001b[39m'\u001b[39m\u001b[39mdem_soc_ed_lessbach_xt\u001b[39m\u001b[39m'\u001b[39m,\n\u001b[1;32m      9\u001b[0m \u001b[39m'\u001b[39m\u001b[39mcensus_region\u001b[39m\u001b[39m'\u001b[39m, \u001b[39m'\u001b[39m\u001b[39mcensus_division\u001b[39m\u001b[39m'\u001b[39m, \u001b[39m'\u001b[39m\u001b[39msub_west_coast\u001b[39m\u001b[39m'\u001b[39m,\n\u001b[0;32m   (...)\u001b[0m\n\u001b[1;32m     17\u001b[0m \u001b[39m'\u001b[39m\u001b[39mSocial_&_Economic_Factors_Z-Score\u001b[39m\u001b[39m'\u001b[39m, \u001b[39m'\u001b[39m\u001b[39mSocial_&_Economic_Factors_Rank\u001b[39m\u001b[39m'\u001b[39m,\n\u001b[1;32m     18\u001b[0m \u001b[39m'\u001b[39m\u001b[39mPhysical_Environment_Z-Score\u001b[39m\u001b[39m'\u001b[39m, \u001b[39m'\u001b[39m\u001b[39mPhysical_Environment_Rank\u001b[39m\u001b[39m'\u001b[39m]\n\u001b[1;32m     20\u001b[0m final_cols \u001b[39m=\u001b[39m selected_covariates\u001b[39m.\u001b[39mappend([\u001b[39m'\u001b[39m\u001b[39mcocnumber\u001b[39m\u001b[39m'\u001b[39m, \u001b[39m'\u001b[39m\u001b[39mpit_tot_hless_pit_hud\u001b[39m\u001b[39m'\u001b[39m])\n\u001b[0;32m---> 22\u001b[0m df \u001b[39m=\u001b[39m df[final_cols]\n\u001b[1;32m     24\u001b[0m df\u001b[39m.\u001b[39mhead()\n",
      "File \u001b[0;32m~/Desktop/Sem8/CS 498 CSS/cs498-css/venv/lib/python3.11/site-packages/pandas/core/frame.py:4090\u001b[0m, in \u001b[0;36mDataFrame.__getitem__\u001b[0;34m(self, key)\u001b[0m\n\u001b[1;32m   4088\u001b[0m \u001b[39mif\u001b[39;00m \u001b[39mself\u001b[39m\u001b[39m.\u001b[39mcolumns\u001b[39m.\u001b[39mnlevels \u001b[39m>\u001b[39m \u001b[39m1\u001b[39m:\n\u001b[1;32m   4089\u001b[0m     \u001b[39mreturn\u001b[39;00m \u001b[39mself\u001b[39m\u001b[39m.\u001b[39m_getitem_multilevel(key)\n\u001b[0;32m-> 4090\u001b[0m indexer \u001b[39m=\u001b[39m \u001b[39mself\u001b[39;49m\u001b[39m.\u001b[39;49mcolumns\u001b[39m.\u001b[39;49mget_loc(key)\n\u001b[1;32m   4091\u001b[0m \u001b[39mif\u001b[39;00m is_integer(indexer):\n\u001b[1;32m   4092\u001b[0m     indexer \u001b[39m=\u001b[39m [indexer]\n",
      "File \u001b[0;32m~/Desktop/Sem8/CS 498 CSS/cs498-css/venv/lib/python3.11/site-packages/pandas/core/indexes/base.py:3812\u001b[0m, in \u001b[0;36mIndex.get_loc\u001b[0;34m(self, key)\u001b[0m\n\u001b[1;32m   3807\u001b[0m     \u001b[39mif\u001b[39;00m \u001b[39misinstance\u001b[39m(casted_key, \u001b[39mslice\u001b[39m) \u001b[39mor\u001b[39;00m (\n\u001b[1;32m   3808\u001b[0m         \u001b[39misinstance\u001b[39m(casted_key, abc\u001b[39m.\u001b[39mIterable)\n\u001b[1;32m   3809\u001b[0m         \u001b[39mand\u001b[39;00m \u001b[39many\u001b[39m(\u001b[39misinstance\u001b[39m(x, \u001b[39mslice\u001b[39m) \u001b[39mfor\u001b[39;00m x \u001b[39min\u001b[39;00m casted_key)\n\u001b[1;32m   3810\u001b[0m     ):\n\u001b[1;32m   3811\u001b[0m         \u001b[39mraise\u001b[39;00m InvalidIndexError(key)\n\u001b[0;32m-> 3812\u001b[0m     \u001b[39mraise\u001b[39;00m \u001b[39mKeyError\u001b[39;00m(key) \u001b[39mfrom\u001b[39;00m \u001b[39merr\u001b[39;00m\n\u001b[1;32m   3813\u001b[0m \u001b[39mexcept\u001b[39;00m \u001b[39mTypeError\u001b[39;00m:\n\u001b[1;32m   3814\u001b[0m     \u001b[39m# If we have a listlike key, _check_indexing_error will raise\u001b[39;00m\n\u001b[1;32m   3815\u001b[0m     \u001b[39m#  InvalidIndexError. Otherwise we fall through and re-raise\u001b[39;00m\n\u001b[1;32m   3816\u001b[0m     \u001b[39m#  the TypeError.\u001b[39;00m\n\u001b[1;32m   3817\u001b[0m     \u001b[39mself\u001b[39m\u001b[39m.\u001b[39m_check_indexing_error(key)\n",
      "\u001b[0;31mKeyError\u001b[0m: None"
     ]
    }
   ],
   "source": [
    "df = pd.read_pickle(\"data.pkl\")\n",
    "df.index = pd.to_datetime(df.index, format='%Y')\n",
    "\n",
    "label_encoder = LabelEncoder()\n",
    "df['cocnumber'] = label_encoder.fit_transform(df['cocnumber'])\n",
    "\n",
    "selected_covariates = ['d_env_wea_avgtemp_summer_noaa', 'd_env_wea_precip_noaa',\n",
    "'d_env_wea_precip_annual_noaa', 'dem_soc_ed_lessbach_xt',\n",
    "'census_region', 'census_division', 'sub_west_coast',\n",
    "'sub_low_rent_vacancy', 'sub_high_cost_rent75',\n",
    "'sub_high_cost_homeval75', 'sub_high_rent_share75',\n",
    "'tight_high_cost_rental_mkt', 'sub_tight_high_cost_rent',\n",
    "'sub_west_coast_all_urb', 'sub_west_census', 'major_city', 'suburban',\n",
    "'rural', 'Mortality_Z-Score', 'Mortality_Rank', 'Morbidity_Z-Score',\n",
    "'Morbidity_Rank', 'Health_Behaviors_Z-Score', 'Health_Behaviors_Rank',\n",
    "'Clinical_Care_Z-Score', 'Clinical_Care_Rank',\n",
    "'Social_&_Economic_Factors_Z-Score', 'Social_&_Economic_Factors_Rank',\n",
    "'Physical_Environment_Z-Score', 'Physical_Environment_Rank']\n",
    "\n",
    "final_cols = selected_covariates.append(['cocnumber', 'pit_tot_hless_pit_hud'])\n",
    "\n",
    "df = df[final_cols]\n",
    "\n",
    "df.head()"
   ]
  },
  {
   "cell_type": "code",
   "execution_count": 64,
   "metadata": {},
   "outputs": [],
   "source": [
    "cols = list(df.columns)\n",
    "cols.remove('cocnumber')\n",
    "series_group = TimeSeries.from_group_dataframe(df, group_cols=\"cocnumber\", value_cols=cols)"
   ]
  },
  {
   "cell_type": "code",
   "execution_count": null,
   "metadata": {},
   "outputs": [],
   "source": []
  }
 ],
 "metadata": {
  "kernelspec": {
   "display_name": "venv",
   "language": "python",
   "name": "python3"
  },
  "language_info": {
   "codemirror_mode": {
    "name": "ipython",
    "version": 3
   },
   "file_extension": ".py",
   "mimetype": "text/x-python",
   "name": "python",
   "nbconvert_exporter": "python",
   "pygments_lexer": "ipython3",
   "version": "3.11.6"
  }
 },
 "nbformat": 4,
 "nbformat_minor": 2
}
